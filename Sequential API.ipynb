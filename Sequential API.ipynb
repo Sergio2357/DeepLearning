{
 "cells": [
  {
   "cell_type": "code",
   "execution_count": 2,
   "metadata": {},
   "outputs": [
    {
     "data": {
      "text/plain": [
       "'2.2.4-tf'"
      ]
     },
     "execution_count": 2,
     "metadata": {},
     "output_type": "execute_result"
    }
   ],
   "source": [
    "import tensorflow as tf\n",
    "from tensorflow import keras\n",
    "\n",
    "tf.__version__\n",
    "keras.__version__"
   ]
  },
  {
   "cell_type": "markdown",
   "metadata": {},
   "source": [
    "## Image Classifier"
   ]
  },
  {
   "cell_type": "code",
   "execution_count": 3,
   "metadata": {},
   "outputs": [
    {
     "name": "stdout",
     "output_type": "stream",
     "text": [
      "Downloading data from https://storage.googleapis.com/tensorflow/tf-keras-datasets/train-labels-idx1-ubyte.gz\n",
      "32768/29515 [=================================] - 0s 1us/step\n",
      "Downloading data from https://storage.googleapis.com/tensorflow/tf-keras-datasets/train-images-idx3-ubyte.gz\n",
      "26427392/26421880 [==============================] - 4s 0us/step\n",
      "Downloading data from https://storage.googleapis.com/tensorflow/tf-keras-datasets/t10k-labels-idx1-ubyte.gz\n",
      "8192/5148 [===============================================] - 0s 0us/step\n",
      "Downloading data from https://storage.googleapis.com/tensorflow/tf-keras-datasets/t10k-images-idx3-ubyte.gz\n",
      "4423680/4422102 [==============================] - 1s 0us/step\n"
     ]
    }
   ],
   "source": [
    "fashion_mnist = keras.datasets.fashion_mnist\n",
    "(X_train_full, y_train_full), (X_test, y_test) = fashion_mnist.load_data()"
   ]
  },
  {
   "cell_type": "code",
   "execution_count": 4,
   "metadata": {},
   "outputs": [],
   "source": [
    "# scale the input features for GD\n",
    "X_valid, X_train = X_train_full[:5000] / 255.0, X_train_full[5000:] / 255.0\n",
    "y_valid, y_train = y_train_full[:5000], y_train_full[5000:]"
   ]
  },
  {
   "cell_type": "code",
   "execution_count": 5,
   "metadata": {},
   "outputs": [
    {
     "data": {
      "text/plain": [
       "'Coat'"
      ]
     },
     "execution_count": 5,
     "metadata": {},
     "output_type": "execute_result"
    }
   ],
   "source": [
    "# create the class names labels\n",
    "class_names = ['T-shirt/top', 'Trouser', 'Pullover', 'Dress', 'Coat', 'Sandal', 'Shirt', 'Sneaker', 'Bag', 'Ankle boot']\n",
    "class_names[y_train[0]]"
   ]
  },
  {
   "cell_type": "code",
   "execution_count": 6,
   "metadata": {},
   "outputs": [],
   "source": [
    "# creating the model using the Sequential API\n",
    "model = keras.models.Sequential()\n",
    "model.add(keras.layers.Flatten(input_shape=[28,28]))\n",
    "model.add(keras.layers.Dense(300, activation='relu'))\n",
    "model.add(keras.layers.Dense(100, activation='relu'))\n",
    "model.add(keras.layers.Dense(10, activation='softmax'))"
   ]
  },
  {
   "cell_type": "code",
   "execution_count": 7,
   "metadata": {},
   "outputs": [
    {
     "name": "stdout",
     "output_type": "stream",
     "text": [
      "Model: \"sequential\"\n",
      "_________________________________________________________________\n",
      "Layer (type)                 Output Shape              Param #   \n",
      "=================================================================\n",
      "flatten (Flatten)            (None, 784)               0         \n",
      "_________________________________________________________________\n",
      "dense (Dense)                (None, 300)               235500    \n",
      "_________________________________________________________________\n",
      "dense_1 (Dense)              (None, 100)               30100     \n",
      "_________________________________________________________________\n",
      "dense_2 (Dense)              (None, 10)                1010      \n",
      "=================================================================\n",
      "Total params: 266,610\n",
      "Trainable params: 266,610\n",
      "Non-trainable params: 0\n",
      "_________________________________________________________________\n"
     ]
    }
   ],
   "source": [
    "model.summary()"
   ]
  },
  {
   "cell_type": "code",
   "execution_count": 8,
   "metadata": {},
   "outputs": [],
   "source": [
    "# compile model\n",
    "model.compile(loss=\"sparse_categorical_crossentropy\",\n",
    "             optimizer=\"sgd\",\n",
    "             metrics=[\"accuracy\"])"
   ]
  },
  {
   "cell_type": "code",
   "execution_count": 12,
   "metadata": {
    "scrolled": true
   },
   "outputs": [
    {
     "name": "stdout",
     "output_type": "stream",
     "text": [
      "Train on 55000 samples, validate on 5000 samples\n",
      "Epoch 1/30\n",
      "55000/55000 [==============================] - 5s 98us/sample - loss: 0.2221 - accuracy: 0.9200 - val_loss: 0.3043 - val_accuracy: 0.8940\n",
      "Epoch 2/30\n",
      "55000/55000 [==============================] - 5s 92us/sample - loss: 0.2178 - accuracy: 0.9211 - val_loss: 0.2953 - val_accuracy: 0.8954\n",
      "Epoch 3/30\n",
      "55000/55000 [==============================] - 6s 102us/sample - loss: 0.2148 - accuracy: 0.9221 - val_loss: 0.2950 - val_accuracy: 0.8924\n",
      "Epoch 4/30\n",
      "55000/55000 [==============================] - 5s 90us/sample - loss: 0.2113 - accuracy: 0.9249 - val_loss: 0.2961 - val_accuracy: 0.8942\n",
      "Epoch 5/30\n",
      "55000/55000 [==============================] - 6s 107us/sample - loss: 0.2077 - accuracy: 0.9249 - val_loss: 0.2942 - val_accuracy: 0.8958\n",
      "Epoch 6/30\n",
      "55000/55000 [==============================] - 5s 95us/sample - loss: 0.2049 - accuracy: 0.9268 - val_loss: 0.2943 - val_accuracy: 0.8980\n",
      "Epoch 7/30\n",
      "55000/55000 [==============================] - 5s 100us/sample - loss: 0.2013 - accuracy: 0.9276 - val_loss: 0.2980 - val_accuracy: 0.8934\n",
      "Epoch 8/30\n",
      "55000/55000 [==============================] - 6s 109us/sample - loss: 0.1979 - accuracy: 0.9292 - val_loss: 0.3042 - val_accuracy: 0.8884\n",
      "Epoch 9/30\n",
      "55000/55000 [==============================] - 6s 106us/sample - loss: 0.1945 - accuracy: 0.9298 - val_loss: 0.2956 - val_accuracy: 0.8922\n",
      "Epoch 10/30\n",
      "55000/55000 [==============================] - 6s 117us/sample - loss: 0.1912 - accuracy: 0.9309 - val_loss: 0.3100 - val_accuracy: 0.8930\n",
      "Epoch 11/30\n",
      "55000/55000 [==============================] - 6s 104us/sample - loss: 0.1884 - accuracy: 0.9320 - val_loss: 0.2928 - val_accuracy: 0.8974\n",
      "Epoch 12/30\n",
      "55000/55000 [==============================] - 6s 102us/sample - loss: 0.1854 - accuracy: 0.9336 - val_loss: 0.3050 - val_accuracy: 0.8966\n",
      "Epoch 13/30\n",
      "55000/55000 [==============================] - 6s 113us/sample - loss: 0.1824 - accuracy: 0.9335 - val_loss: 0.2954 - val_accuracy: 0.8954\n",
      "Epoch 14/30\n",
      "55000/55000 [==============================] - 6s 108us/sample - loss: 0.1789 - accuracy: 0.9360 - val_loss: 0.2878 - val_accuracy: 0.9026\n",
      "Epoch 15/30\n",
      "55000/55000 [==============================] - 6s 104us/sample - loss: 0.1773 - accuracy: 0.9360 - val_loss: 0.2871 - val_accuracy: 0.8950\n",
      "Epoch 16/30\n",
      "55000/55000 [==============================] - 6s 118us/sample - loss: 0.1743 - accuracy: 0.9377 - val_loss: 0.2964 - val_accuracy: 0.8980\n",
      "Epoch 17/30\n",
      "55000/55000 [==============================] - 7s 128us/sample - loss: 0.1709 - accuracy: 0.9389 - val_loss: 0.2939 - val_accuracy: 0.8954\n",
      "Epoch 18/30\n",
      "55000/55000 [==============================] - 7s 136us/sample - loss: 0.1677 - accuracy: 0.9395 - val_loss: 0.3007 - val_accuracy: 0.8950\n",
      "Epoch 19/30\n",
      "55000/55000 [==============================] - 8s 153us/sample - loss: 0.1651 - accuracy: 0.9404 - val_loss: 0.3252 - val_accuracy: 0.8894\n",
      "Epoch 20/30\n",
      "55000/55000 [==============================] - 7s 134us/sample - loss: 0.1622 - accuracy: 0.9419 - val_loss: 0.3011 - val_accuracy: 0.8974\n",
      "Epoch 21/30\n",
      "55000/55000 [==============================] - 7s 122us/sample - loss: 0.1605 - accuracy: 0.9423 - val_loss: 0.3012 - val_accuracy: 0.8948\n",
      "Epoch 22/30\n",
      "55000/55000 [==============================] - 7s 130us/sample - loss: 0.1578 - accuracy: 0.9444 - val_loss: 0.2981 - val_accuracy: 0.8976\n",
      "Epoch 23/30\n",
      "55000/55000 [==============================] - 7s 122us/sample - loss: 0.1554 - accuracy: 0.9449 - val_loss: 0.3252 - val_accuracy: 0.8920\n",
      "Epoch 24/30\n",
      "55000/55000 [==============================] - 6s 112us/sample - loss: 0.1528 - accuracy: 0.9459 - val_loss: 0.3322 - val_accuracy: 0.8846\n",
      "Epoch 25/30\n",
      "55000/55000 [==============================] - 8s 142us/sample - loss: 0.1507 - accuracy: 0.9464 - val_loss: 0.2939 - val_accuracy: 0.8964\n",
      "Epoch 26/30\n",
      "55000/55000 [==============================] - 7s 128us/sample - loss: 0.1477 - accuracy: 0.9469 - val_loss: 0.3021 - val_accuracy: 0.8934\n",
      "Epoch 27/30\n",
      "55000/55000 [==============================] - 8s 139us/sample - loss: 0.1439 - accuracy: 0.9497 - val_loss: 0.3061 - val_accuracy: 0.8958\n",
      "Epoch 28/30\n",
      "55000/55000 [==============================] - 7s 129us/sample - loss: 0.1431 - accuracy: 0.9483 - val_loss: 0.3237 - val_accuracy: 0.8856\n",
      "Epoch 29/30\n",
      "55000/55000 [==============================] - 7s 134us/sample - loss: 0.1407 - accuracy: 0.9502 - val_loss: 0.3008 - val_accuracy: 0.9006\n",
      "Epoch 30/30\n",
      "55000/55000 [==============================] - 7s 133us/sample - loss: 0.1376 - accuracy: 0.9514 - val_loss: 0.3059 - val_accuracy: 0.9006\n"
     ]
    }
   ],
   "source": [
    "# training\n",
    "history = model.fit(X_train, y_train, epochs=30,\n",
    "                   validation_data=(X_valid, y_valid))"
   ]
  },
  {
   "cell_type": "code",
   "execution_count": 14,
   "metadata": {},
   "outputs": [
    {
     "data": {
      "image/png": "[encoded data removed]",
      "text/plain": [
       "<Figure size 576x360 with 1 Axes>"
      ]
     },
     "metadata": {
      "needs_background": "light"
     },
     "output_type": "display_data"
    }
   ],
   "source": [
    "import pandas as pd\n",
    "import matplotlib.pyplot as plt\n",
    "\n",
    "pd.DataFrame(history.history).plot(figsize=(8,5))\n",
    "plt.grid(True)\n",
    "plt.gca().set_ylim(0,1)\n",
    "plt.show()"
   ]
  },
  {
   "cell_type": "code",
   "execution_count": null,
   "metadata": {},
   "outputs": [],
   "source": [
    "# evaluate model\n",
    "model.evaluate(X_test, y_test)"
   ]
  },
  {
   "cell_type": "code",
   "execution_count": 15,
   "metadata": {},
   "outputs": [
    {
     "data": {
      "text/plain": [
       "array([[0., 0., 0., 0., 0., 0., 0., 0., 0., 1.],\n",
       "       [0., 0., 1., 0., 0., 0., 0., 0., 0., 0.],\n",
       "       [0., 1., 0., 0., 0., 0., 0., 0., 0., 0.]], dtype=float32)"
      ]
     },
     "execution_count": 15,
     "metadata": {},
     "output_type": "execute_result"
    }
   ],
   "source": [
    "# make new predictions\n",
    "X_new = X_test[:3]\n",
    "y_proba = model.predict(X_new)\n",
    "y_proba.round(2)"
   ]
  },
  {
   "cell_type": "code",
   "execution_count": 16,
   "metadata": {},
   "outputs": [
    {
     "data": {
      "text/plain": [
       "array(['Ankle boot', 'Pullover', 'Trouser'], dtype='<U11')"
      ]
     },
     "execution_count": 16,
     "metadata": {},
     "output_type": "execute_result"
    }
   ],
   "source": [
    "import numpy as np\n",
    "\n",
    "y_pred = model.predict_classes(X_new)\n",
    "np.array(class_names)[y_pred]"
   ]
  },
  {
   "cell_type": "markdown",
   "metadata": {},
   "source": [
    "## Regression MLP"
   ]
  },
  {
   "cell_type": "code",
   "execution_count": 17,
   "metadata": {},
   "outputs": [
    {
     "name": "stderr",
     "output_type": "stream",
     "text": [
      "Downloading Cal. housing from https://ndownloader.figshare.com/files/5976036 to /Users/scadena/scikit_learn_data\n"
     ]
    }
   ],
   "source": [
    "from sklearn.datasets import fetch_california_housing\n",
    "from sklearn.model_selection import train_test_split\n",
    "from sklearn.preprocessing import StandardScaler\n",
    "\n",
    "housing = fetch_california_housing()"
   ]
  },
  {
   "cell_type": "code",
   "execution_count": 19,
   "metadata": {},
   "outputs": [],
   "source": [
    "X_train_full, X_test, y_train_full, y_test = train_test_split(\n",
    "    housing.data, housing.target)\n",
    "X_train, X_valid, y_train, y_valid = train_test_split(\n",
    "    X_train_full, y_train_full)\n",
    "\n",
    "scaler = StandardScaler()\n",
    "X_train = scaler.fit_transform(X_train)\n",
    "X_valid = scaler.transform(X_valid)\n",
    "X_test = scaler.transform(X_test)"
   ]
  },
  {
   "cell_type": "code",
   "execution_count": 20,
   "metadata": {
    "scrolled": true
   },
   "outputs": [
    {
     "name": "stdout",
     "output_type": "stream",
     "text": [
      "Train on 11610 samples, validate on 3870 samples\n",
      "Epoch 1/20\n",
      "11610/11610 [==============================] - 1s 92us/sample - loss: 1.0678 - val_loss: 0.5891\n",
      "Epoch 2/20\n",
      "11610/11610 [==============================] - 1s 63us/sample - loss: 0.5284 - val_loss: 0.5264\n",
      "Epoch 3/20\n",
      "11610/11610 [==============================] - 1s 69us/sample - loss: 0.4869 - val_loss: 0.4841\n",
      "Epoch 4/20\n",
      "11610/11610 [==============================] - 1s 58us/sample - loss: 0.4639 - val_loss: 0.4702\n",
      "Epoch 5/20\n",
      "11610/11610 [==============================] - 1s 57us/sample - loss: 0.4494 - val_loss: 0.4750\n",
      "Epoch 6/20\n",
      "11610/11610 [==============================] - 1s 66us/sample - loss: 0.4412 - val_loss: 0.4481\n",
      "Epoch 7/20\n",
      "11610/11610 [==============================] - 1s 54us/sample - loss: 0.4337 - val_loss: 0.4433\n",
      "Epoch 8/20\n",
      "11610/11610 [==============================] - 1s 68us/sample - loss: 0.4263 - val_loss: 0.4398\n",
      "Epoch 9/20\n",
      "11610/11610 [==============================] - 1s 60us/sample - loss: 0.4197 - val_loss: 0.4364\n",
      "Epoch 10/20\n",
      "11610/11610 [==============================] - 1s 55us/sample - loss: 0.4172 - val_loss: 0.4309\n",
      "Epoch 11/20\n",
      "11610/11610 [==============================] - 1s 71us/sample - loss: 0.4078 - val_loss: 0.4240\n",
      "Epoch 12/20\n",
      "11610/11610 [==============================] - 1s 55us/sample - loss: 0.4014 - val_loss: 0.4191\n",
      "Epoch 13/20\n",
      "11610/11610 [==============================] - 1s 62us/sample - loss: 0.3972 - val_loss: 0.4149\n",
      "Epoch 14/20\n",
      "11610/11610 [==============================] - 1s 45us/sample - loss: 0.3923 - val_loss: 0.4102\n",
      "Epoch 15/20\n",
      "11610/11610 [==============================] - 1s 49us/sample - loss: 0.3879 - val_loss: 0.4070\n",
      "Epoch 16/20\n",
      "11610/11610 [==============================] - 1s 45us/sample - loss: 0.3842 - val_loss: 0.4065\n",
      "Epoch 17/20\n",
      "11610/11610 [==============================] - 1s 51us/sample - loss: 0.3810 - val_loss: 0.4032\n",
      "Epoch 18/20\n",
      "11610/11610 [==============================] - 1s 45us/sample - loss: 0.3799 - val_loss: 0.4038\n",
      "Epoch 19/20\n",
      "11610/11610 [==============================] - 1s 51us/sample - loss: 0.3795 - val_loss: 0.4048\n",
      "Epoch 20/20\n",
      "11610/11610 [==============================] - 1s 44us/sample - loss: 0.3759 - val_loss: 0.3942\n",
      "5160/5160 [==============================] - 0s 23us/sample - loss: 0.3774\n"
     ]
    }
   ],
   "source": [
    "model = keras.models.Sequential([\n",
    "    keras.layers.Dense(30, activation='relu', input_shape=X_train.shape[1:]),\n",
    "    keras.layers.Dense(1)\n",
    "])\n",
    "model.compile(loss='mean_squared_error', optimizer='sgd')\n",
    "history = model.fit(X_train, y_train, epochs=20, validation_data=(X_valid, y_valid))\n",
    "mse_test = model.evaluate(X_test, y_test)\n",
    "X_new = X_test[:3] #let's pretend these are new instances\n",
    "y_pred = model.predict(X_new)"
   ]
  },
  {
   "cell_type": "code",
   "execution_count": 21,
   "metadata": {},
   "outputs": [
    {
     "data": {
      "text/plain": [
       "array([[1.6403838],\n",
       "       [4.0461516],\n",
       "       [1.0718546]], dtype=float32)"
      ]
     },
     "execution_count": 21,
     "metadata": {},
     "output_type": "execute_result"
    }
   ],
   "source": [
    "y_pred"
   ]
  },
  {
   "cell_type": "markdown",
   "metadata": {},
   "source": [
    "## Save and Restore Model"
   ]
  },
  {
   "cell_type": "code",
   "execution_count": 22,
   "metadata": {},
   "outputs": [],
   "source": [
    "model.save(\"first_model.h5\")\n",
    "model = keras.models.load_model(\"first_model.h5\")"
   ]
  },
  {
   "cell_type": "markdown",
   "metadata": {},
   "source": [
    "## Callbacks"
   ]
  },
  {
   "cell_type": "code",
   "execution_count": 23,
   "metadata": {},
   "outputs": [
    {
     "name": "stdout",
     "output_type": "stream",
     "text": [
      "Train on 11610 samples, validate on 3870 samples\n",
      "Epoch 1/10\n",
      "11610/11610 [==============================] - 1s 81us/sample - loss: 0.3718 - val_loss: 0.3940\n",
      "Epoch 2/10\n",
      "11610/11610 [==============================] - 1s 66us/sample - loss: 0.3728 - val_loss: 0.3890\n",
      "Epoch 3/10\n",
      "11610/11610 [==============================] - 1s 56us/sample - loss: 0.3720 - val_loss: 0.3910\n",
      "Epoch 4/10\n",
      "11610/11610 [==============================] - 1s 57us/sample - loss: 0.3681 - val_loss: 0.4231\n",
      "Epoch 5/10\n",
      "11610/11610 [==============================] - 1s 59us/sample - loss: 0.3657 - val_loss: 0.3876\n",
      "Epoch 6/10\n",
      "11610/11610 [==============================] - 1s 56us/sample - loss: 0.3630 - val_loss: 0.3869\n",
      "Epoch 7/10\n",
      "11610/11610 [==============================] - 1s 60us/sample - loss: 0.3663 - val_loss: 0.3891\n",
      "Epoch 8/10\n",
      "11610/11610 [==============================] - 1s 61us/sample - loss: 0.3711 - val_loss: 0.3821\n",
      "Epoch 9/10\n",
      "11610/11610 [==============================] - 1s 54us/sample - loss: 0.3584 - val_loss: 0.3833\n",
      "Epoch 10/10\n",
      "11610/11610 [==============================] - 1s 50us/sample - loss: 0.3550 - val_loss: 0.4059\n"
     ]
    }
   ],
   "source": [
    "checkpoint_cb = keras.callbacks.ModelCheckpoint(\"my_keras_model.h5\", save_best_only=True)\n",
    "history = model.fit(X_train, y_train, epochs=10,\n",
    "                   validation_data=(X_valid, y_valid),\n",
    "                   callbacks=[checkpoint_cb])\n",
    "model = keras.models.load_model(\"my_keras_model.h5\")"
   ]
  },
  {
   "cell_type": "code",
   "execution_count": 25,
   "metadata": {
    "scrolled": true
   },
   "outputs": [
    {
     "name": "stdout",
     "output_type": "stream",
     "text": [
      "Train on 11610 samples, validate on 3870 samples\n",
      "Epoch 1/100\n",
      "11610/11610 [==============================] - 1s 81us/sample - loss: 0.3585 - val_loss: 0.3831\n",
      "Epoch 2/100\n",
      "11610/11610 [==============================] - 1s 76us/sample - loss: 0.3571 - val_loss: 0.3782\n",
      "Epoch 3/100\n",
      "11610/11610 [==============================] - 1s 47us/sample - loss: 0.3533 - val_loss: 0.3833\n",
      "Epoch 4/100\n",
      "11610/11610 [==============================] - 1s 75us/sample - loss: 0.3546 - val_loss: 0.3753\n",
      "Epoch 5/100\n",
      "11610/11610 [==============================] - 1s 57us/sample - loss: 0.3529 - val_loss: 0.3824\n",
      "Epoch 6/100\n",
      "11610/11610 [==============================] - 1s 48us/sample - loss: 0.3592 - val_loss: 0.3731\n",
      "Epoch 7/100\n",
      "11610/11610 [==============================] - 1s 62us/sample - loss: 0.3506 - val_loss: 0.3712\n",
      "Epoch 8/100\n",
      "11610/11610 [==============================] - 1s 47us/sample - loss: 0.3618 - val_loss: 0.3801\n",
      "Epoch 9/100\n",
      "11610/11610 [==============================] - 1s 61us/sample - loss: 0.3537 - val_loss: 0.3774\n",
      "Epoch 10/100\n",
      "11610/11610 [==============================] - 1s 54us/sample - loss: 0.3503 - val_loss: 0.3701\n",
      "Epoch 11/100\n",
      "11610/11610 [==============================] - 1s 56us/sample - loss: 0.3517 - val_loss: 0.3677\n",
      "Epoch 12/100\n",
      "11610/11610 [==============================] - 1s 62us/sample - loss: 0.3495 - val_loss: 0.3711\n",
      "Epoch 13/100\n",
      "11610/11610 [==============================] - 1s 55us/sample - loss: 0.3615 - val_loss: 0.3695\n",
      "Epoch 14/100\n",
      "11610/11610 [==============================] - 1s 63us/sample - loss: 0.3520 - val_loss: 0.3685\n",
      "Epoch 15/100\n",
      "11610/11610 [==============================] - 1s 59us/sample - loss: 0.3510 - val_loss: 0.4863\n",
      "Epoch 16/100\n",
      "11610/11610 [==============================] - 1s 56us/sample - loss: 0.3522 - val_loss: 0.3622\n",
      "Epoch 17/100\n",
      "11610/11610 [==============================] - 1s 49us/sample - loss: 0.3530 - val_loss: 0.3669\n",
      "Epoch 18/100\n",
      "11610/11610 [==============================] - 1s 55us/sample - loss: 0.3429 - val_loss: 0.3637\n",
      "Epoch 19/100\n",
      "11610/11610 [==============================] - 1s 47us/sample - loss: 0.3391 - val_loss: 0.3654\n",
      "Epoch 20/100\n",
      "11610/11610 [==============================] - 1s 53us/sample - loss: 0.3374 - val_loss: 0.3609\n",
      "Epoch 21/100\n",
      "11610/11610 [==============================] - 1s 56us/sample - loss: 0.3370 - val_loss: 0.3642\n",
      "Epoch 22/100\n",
      "11610/11610 [==============================] - 1s 60us/sample - loss: 0.3365 - val_loss: 0.3681\n",
      "Epoch 23/100\n",
      "11610/11610 [==============================] - 1s 46us/sample - loss: 0.3357 - val_loss: 0.3616\n",
      "Epoch 24/100\n",
      "11610/11610 [==============================] - 1s 54us/sample - loss: 0.3334 - val_loss: 0.3525\n",
      "Epoch 25/100\n",
      "11610/11610 [==============================] - 1s 46us/sample - loss: 0.3343 - val_loss: 0.3530\n",
      "Epoch 26/100\n",
      "11610/11610 [==============================] - 1s 52us/sample - loss: 0.3327 - val_loss: 0.3503\n",
      "Epoch 27/100\n",
      "11610/11610 [==============================] - 1s 46us/sample - loss: 0.3331 - val_loss: 0.3544\n",
      "Epoch 28/100\n",
      "11610/11610 [==============================] - 1s 54us/sample - loss: 0.3340 - val_loss: 0.3571\n",
      "Epoch 29/100\n",
      "11610/11610 [==============================] - 1s 46us/sample - loss: 0.3392 - val_loss: 0.3539\n",
      "Epoch 30/100\n",
      "11610/11610 [==============================] - 1s 52us/sample - loss: 0.3306 - val_loss: 0.3579\n",
      "Epoch 31/100\n",
      "11610/11610 [==============================] - 1s 47us/sample - loss: 0.3336 - val_loss: 0.3517\n",
      "Epoch 32/100\n",
      "11610/11610 [==============================] - 1s 53us/sample - loss: 0.3300 - val_loss: 0.3489\n",
      "Epoch 33/100\n",
      "11610/11610 [==============================] - 1s 47us/sample - loss: 0.3267 - val_loss: 0.3586\n",
      "Epoch 34/100\n",
      "11610/11610 [==============================] - 1s 50us/sample - loss: 0.3282 - val_loss: 0.3499\n",
      "Epoch 35/100\n",
      "11610/11610 [==============================] - 1s 47us/sample - loss: 0.3263 - val_loss: 0.3491\n",
      "Epoch 36/100\n",
      "11610/11610 [==============================] - 1s 52us/sample - loss: 0.3248 - val_loss: 0.3495\n",
      "Epoch 37/100\n",
      "11610/11610 [==============================] - 1s 47us/sample - loss: 0.3263 - val_loss: 0.3453\n",
      "Epoch 38/100\n",
      "11610/11610 [==============================] - 1s 51us/sample - loss: 0.3258 - val_loss: 0.3433\n",
      "Epoch 39/100\n",
      "11610/11610 [==============================] - 1s 48us/sample - loss: 0.3241 - val_loss: 0.3423\n",
      "Epoch 40/100\n",
      "11610/11610 [==============================] - 1s 51us/sample - loss: 0.3230 - val_loss: 0.3406\n",
      "Epoch 41/100\n",
      "11610/11610 [==============================] - 1s 47us/sample - loss: 0.3248 - val_loss: 0.3416\n",
      "Epoch 42/100\n",
      "11610/11610 [==============================] - 1s 51us/sample - loss: 0.3213 - val_loss: 0.3419\n",
      "Epoch 43/100\n",
      "11610/11610 [==============================] - 1s 47us/sample - loss: 0.3244 - val_loss: 0.3474\n",
      "Epoch 44/100\n",
      "11610/11610 [==============================] - 1s 51us/sample - loss: 0.3260 - val_loss: 0.3439\n",
      "Epoch 45/100\n",
      "11610/11610 [==============================] - 1s 47us/sample - loss: 0.3231 - val_loss: 0.3426\n",
      "Epoch 46/100\n",
      "11610/11610 [==============================] - 1s 51us/sample - loss: 0.3264 - val_loss: 0.3481\n",
      "Epoch 47/100\n",
      "11610/11610 [==============================] - 1s 48us/sample - loss: 0.3288 - val_loss: 0.3373\n",
      "Epoch 48/100\n",
      "11610/11610 [==============================] - 1s 54us/sample - loss: 0.3308 - val_loss: 0.3415\n",
      "Epoch 49/100\n",
      "11610/11610 [==============================] - 1s 47us/sample - loss: 0.3242 - val_loss: 0.3469\n",
      "Epoch 50/100\n",
      "11610/11610 [==============================] - 1s 55us/sample - loss: 0.3222 - val_loss: 0.3374\n",
      "Epoch 51/100\n",
      "11610/11610 [==============================] - 1s 47us/sample - loss: 0.3210 - val_loss: 0.3408\n",
      "Epoch 52/100\n",
      "11610/11610 [==============================] - 1s 50us/sample - loss: 0.3204 - val_loss: 0.3414\n",
      "Epoch 53/100\n",
      "11610/11610 [==============================] - 1s 47us/sample - loss: 0.3234 - val_loss: 0.3386\n",
      "Epoch 54/100\n",
      "11610/11610 [==============================] - 1s 51us/sample - loss: 0.3191 - val_loss: 0.3390\n",
      "Epoch 55/100\n",
      "11610/11610 [==============================] - 1s 47us/sample - loss: 0.3175 - val_loss: 0.3385\n",
      "Epoch 56/100\n",
      "11610/11610 [==============================] - 1s 52us/sample - loss: 0.3264 - val_loss: 0.3408\n",
      "Epoch 57/100\n",
      "11610/11610 [==============================] - 1s 50us/sample - loss: 0.3443 - val_loss: 0.3461\n"
     ]
    }
   ],
   "source": [
    "# early stopping\n",
    "early_stopping_cb = keras.callbacks.EarlyStopping(patience=10, restore_best_weights=True)\n",
    "history = model.fit(X_train, y_train, epochs=100,\n",
    "                   validation_data=(X_valid, y_valid),\n",
    "                   callbacks=[checkpoint_cb, early_stopping_cb])"
   ]
  },
  {
   "cell_type": "markdown",
   "metadata": {},
   "source": [
    "## TensorBoard"
   ]
  },
  {
   "cell_type": "code",
   "execution_count": 27,
   "metadata": {},
   "outputs": [],
   "source": [
    "import os\n",
    "root_logdir = os.path.join(os.curdir, \"my_logs\")\n",
    "\n",
    "def get_run_logdir():\n",
    "    import time\n",
    "    run_id = time.strftime(\"run_%Y_%m_%d-%H_%M_%S\")\n",
    "    return os.path.join(root_logdir, run_id)\n",
    "\n",
    "run_logdir = get_run_logdir()"
   ]
  },
  {
   "cell_type": "code",
   "execution_count": 29,
   "metadata": {
    "scrolled": true
   },
   "outputs": [
    {
     "name": "stdout",
     "output_type": "stream",
     "text": [
      "Train on 11610 samples, validate on 3870 samples\n",
      "Epoch 1/30\n",
      "11610/11610 [==============================] - 1s 61us/sample - loss: 0.3235 - val_loss: 0.3445\n",
      "Epoch 2/30\n",
      "11610/11610 [==============================] - 1s 71us/sample - loss: 0.3224 - val_loss: 0.3430\n",
      "Epoch 3/30\n",
      "11610/11610 [==============================] - 1s 68us/sample - loss: 0.3206 - val_loss: 0.3562\n",
      "Epoch 4/30\n",
      "11610/11610 [==============================] - 1s 70us/sample - loss: 0.3223 - val_loss: 0.3410\n",
      "Epoch 5/30\n",
      "11610/11610 [==============================] - 1s 76us/sample - loss: 0.3194 - val_loss: 0.3414\n",
      "Epoch 6/30\n",
      "11610/11610 [==============================] - 1s 57us/sample - loss: 0.3250 - val_loss: 0.3362\n",
      "Epoch 7/30\n",
      "11610/11610 [==============================] - 1s 64us/sample - loss: 0.3193 - val_loss: 0.3443\n",
      "Epoch 8/30\n",
      "11610/11610 [==============================] - 1s 56us/sample - loss: 0.3192 - val_loss: 0.3393\n",
      "Epoch 9/30\n",
      "11610/11610 [==============================] - 1s 64us/sample - loss: 0.3178 - val_loss: 0.3386\n",
      "Epoch 10/30\n",
      "11610/11610 [==============================] - 1s 68us/sample - loss: 0.3174 - val_loss: 0.3369\n",
      "Epoch 11/30\n",
      "11610/11610 [==============================] - 1s 69us/sample - loss: 0.3190 - val_loss: 0.3362\n",
      "Epoch 12/30\n",
      "11610/11610 [==============================] - 1s 75us/sample - loss: 0.3183 - val_loss: 0.3338\n",
      "Epoch 13/30\n",
      "11610/11610 [==============================] - 1s 64us/sample - loss: 0.3213 - val_loss: 0.3378\n",
      "Epoch 14/30\n",
      "11610/11610 [==============================] - 1s 57us/sample - loss: 0.3195 - val_loss: 0.3501\n",
      "Epoch 15/30\n",
      "11610/11610 [==============================] - 1s 67us/sample - loss: 0.3287 - val_loss: 0.3352\n",
      "Epoch 16/30\n",
      "11610/11610 [==============================] - 1s 57us/sample - loss: 0.3200 - val_loss: 0.3346\n",
      "Epoch 17/30\n",
      "11610/11610 [==============================] - 1s 63us/sample - loss: 0.3171 - val_loss: 0.3377\n",
      "Epoch 18/30\n",
      "11610/11610 [==============================] - 1s 64us/sample - loss: 0.3171 - val_loss: 0.3326\n",
      "Epoch 19/30\n",
      "11610/11610 [==============================] - 1s 60us/sample - loss: 0.3170 - val_loss: 0.3439\n",
      "Epoch 20/30\n",
      "11610/11610 [==============================] - 1s 64us/sample - loss: 0.3165 - val_loss: 0.3401\n",
      "Epoch 21/30\n",
      "11610/11610 [==============================] - 1s 66us/sample - loss: 0.3171 - val_loss: 0.3426\n",
      "Epoch 22/30\n",
      "11610/11610 [==============================] - 1s 58us/sample - loss: 0.3186 - val_loss: 0.3355\n",
      "Epoch 23/30\n",
      "11610/11610 [==============================] - 1s 64us/sample - loss: 0.3159 - val_loss: 0.3364\n",
      "Epoch 24/30\n",
      "11610/11610 [==============================] - 1s 56us/sample - loss: 0.3158 - val_loss: 0.3381\n",
      "Epoch 25/30\n",
      "11610/11610 [==============================] - 1s 64us/sample - loss: 0.3156 - val_loss: 0.3341\n",
      "Epoch 26/30\n",
      "11610/11610 [==============================] - 1s 66us/sample - loss: 0.3146 - val_loss: 0.3373\n",
      "Epoch 27/30\n",
      "11610/11610 [==============================] - 1s 63us/sample - loss: 0.3171 - val_loss: 0.3392\n",
      "Epoch 28/30\n",
      "11610/11610 [==============================] - 1s 64us/sample - loss: 0.3147 - val_loss: 0.3355\n",
      "Epoch 29/30\n",
      "11610/11610 [==============================] - 1s 63us/sample - loss: 0.3191 - val_loss: 0.3310\n",
      "Epoch 30/30\n",
      "11610/11610 [==============================] - 1s 63us/sample - loss: 0.3161 - val_loss: 0.3338\n"
     ]
    }
   ],
   "source": [
    "tensorboard_cb = keras.callbacks.TensorBoard(run_logdir)\n",
    "history = model.fit(X_train, y_train, epochs=30,\n",
    "                   validation_data=(X_valid, y_valid),\n",
    "                   callbacks=[tensorboard_cb])"
   ]
  },
  {
   "cell_type": "code",
   "execution_count": 30,
   "metadata": {},
   "outputs": [
    {
     "data": {
      "text/html": [
       "\n",
       "      <iframe id=\"tensorboard-frame-6889e51a2c939491\" width=\"100%\" height=\"800\" frameborder=\"0\">\n",
       "      </iframe>\n",
       "      <script>\n",
       "        (function() {\n",
       "          const frame = document.getElementById(\"tensorboard-frame-6889e51a2c939491\");\n",
       "          const url = new URL(\"/\", window.location);\n",
       "          url.port = 6006;\n",
       "          frame.src = url;\n",
       "        })();\n",
       "      </script>\n",
       "  "
      ],
      "text/plain": [
       "<IPython.core.display.HTML object>"
      ]
     },
     "metadata": {},
     "output_type": "display_data"
    }
   ],
   "source": [
    "%load_ext tensorboard\n",
    "%tensorboard --logdir=./my_logs --port=6006"
   ]
  },
  {
   "cell_type": "code",
   "execution_count": null,
   "metadata": {},
   "outputs": [],
   "source": []
  }
 ],
 "metadata": {
  "kernelspec": {
   "display_name": "Python 3",
   "language": "python",
   "name": "python3"
  },
  "language_info": {
   "codemirror_mode": {
    "name": "ipython",
    "version": 3
   },
   "file_extension": ".py",
   "mimetype": "text/x-python",
   "name": "python",
   "nbconvert_exporter": "python",
   "pygments_lexer": "ipython3",
   "version": "3.7.3"
  }
 },
 "nbformat": 4,
 "nbformat_minor": 2
}
